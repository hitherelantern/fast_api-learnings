{
  "cells": [
    {
      "cell_type": "code",
      "execution_count": 1,
      "metadata": {
        "id": "yQXbCzRyDqi2"
      },
      "outputs": [],
      "source": [
        "import pandas as pd\n",
        "from sklearn.ensemble import RandomForestClassifier\n",
        "from sklearn.model_selection import train_test_split\n",
        "from sklearn.preprocessing import OneHotEncoder\n",
        "from sklearn.pipeline import Pipeline\n",
        "from sklearn.compose import ColumnTransformer\n",
        "from sklearn.metrics import classification_report, accuracy_score\n",
        "import numpy as np"
      ]
    },
    {
      "cell_type": "code",
      "execution_count": 3,
      "metadata": {
        "id": "lDDZFkgBD7US"
      },
      "outputs": [],
      "source": [
        "df = pd.read_csv('insurance.csv')"
      ]
    },
    {
      "cell_type": "code",
      "execution_count": 5,
      "metadata": {
        "colab": {
          "base_uri": "https://localhost:8080/",
          "height": 206
        },
        "id": "dgTaikCKJF4C",
        "outputId": "8e5bb326-0ebd-4f42-a172-80583eeb3e08"
      },
      "outputs": [
        {
          "data": {
            "application/vnd.microsoft.datawrangler.viewer.v0+json": {
              "columns": [
                {
                  "name": "index",
                  "rawType": "int64",
                  "type": "integer"
                },
                {
                  "name": "age",
                  "rawType": "int64",
                  "type": "integer"
                },
                {
                  "name": "weight",
                  "rawType": "float64",
                  "type": "float"
                },
                {
                  "name": "height",
                  "rawType": "float64",
                  "type": "float"
                },
                {
                  "name": "income_lpa",
                  "rawType": "float64",
                  "type": "float"
                },
                {
                  "name": "smoker",
                  "rawType": "bool",
                  "type": "boolean"
                },
                {
                  "name": "city",
                  "rawType": "object",
                  "type": "string"
                },
                {
                  "name": "occupation",
                  "rawType": "object",
                  "type": "string"
                },
                {
                  "name": "insurance_premium_category",
                  "rawType": "object",
                  "type": "string"
                }
              ],
              "ref": "a0da526e-f4a2-42f1-83bf-691c69e3576c",
              "rows": [
                [
                  "86",
                  "35",
                  "66.0",
                  "1.89",
                  "37.38",
                  "False",
                  "Hyderabad",
                  "freelancer",
                  "Low"
                ],
                [
                  "82",
                  "35",
                  "56.0",
                  "1.77",
                  "12.96",
                  "False",
                  "Delhi",
                  "unemployed",
                  "Low"
                ],
                [
                  "91",
                  "38",
                  "119.8",
                  "1.76",
                  "28.46788535766728",
                  "False",
                  "Bangalore",
                  "government_job",
                  "Low"
                ],
                [
                  "96",
                  "26",
                  "113.8",
                  "1.54",
                  "34.01",
                  "False",
                  "Delhi",
                  "private_job",
                  "Low"
                ],
                [
                  "6",
                  "19",
                  "80.1",
                  "1.68",
                  "3.59",
                  "True",
                  "Hyderabad",
                  "student",
                  "Medium"
                ]
              ],
              "shape": {
                "columns": 8,
                "rows": 5
              }
            },
            "text/html": [
              "<div>\n",
              "<style scoped>\n",
              "    .dataframe tbody tr th:only-of-type {\n",
              "        vertical-align: middle;\n",
              "    }\n",
              "\n",
              "    .dataframe tbody tr th {\n",
              "        vertical-align: top;\n",
              "    }\n",
              "\n",
              "    .dataframe thead th {\n",
              "        text-align: right;\n",
              "    }\n",
              "</style>\n",
              "<table border=\"1\" class=\"dataframe\">\n",
              "  <thead>\n",
              "    <tr style=\"text-align: right;\">\n",
              "      <th></th>\n",
              "      <th>age</th>\n",
              "      <th>weight</th>\n",
              "      <th>height</th>\n",
              "      <th>income_lpa</th>\n",
              "      <th>smoker</th>\n",
              "      <th>city</th>\n",
              "      <th>occupation</th>\n",
              "      <th>insurance_premium_category</th>\n",
              "    </tr>\n",
              "  </thead>\n",
              "  <tbody>\n",
              "    <tr>\n",
              "      <th>86</th>\n",
              "      <td>35</td>\n",
              "      <td>66.0</td>\n",
              "      <td>1.89</td>\n",
              "      <td>37.380000</td>\n",
              "      <td>False</td>\n",
              "      <td>Hyderabad</td>\n",
              "      <td>freelancer</td>\n",
              "      <td>Low</td>\n",
              "    </tr>\n",
              "    <tr>\n",
              "      <th>82</th>\n",
              "      <td>35</td>\n",
              "      <td>56.0</td>\n",
              "      <td>1.77</td>\n",
              "      <td>12.960000</td>\n",
              "      <td>False</td>\n",
              "      <td>Delhi</td>\n",
              "      <td>unemployed</td>\n",
              "      <td>Low</td>\n",
              "    </tr>\n",
              "    <tr>\n",
              "      <th>91</th>\n",
              "      <td>38</td>\n",
              "      <td>119.8</td>\n",
              "      <td>1.76</td>\n",
              "      <td>28.467885</td>\n",
              "      <td>False</td>\n",
              "      <td>Bangalore</td>\n",
              "      <td>government_job</td>\n",
              "      <td>Low</td>\n",
              "    </tr>\n",
              "    <tr>\n",
              "      <th>96</th>\n",
              "      <td>26</td>\n",
              "      <td>113.8</td>\n",
              "      <td>1.54</td>\n",
              "      <td>34.010000</td>\n",
              "      <td>False</td>\n",
              "      <td>Delhi</td>\n",
              "      <td>private_job</td>\n",
              "      <td>Low</td>\n",
              "    </tr>\n",
              "    <tr>\n",
              "      <th>6</th>\n",
              "      <td>19</td>\n",
              "      <td>80.1</td>\n",
              "      <td>1.68</td>\n",
              "      <td>3.590000</td>\n",
              "      <td>True</td>\n",
              "      <td>Hyderabad</td>\n",
              "      <td>student</td>\n",
              "      <td>Medium</td>\n",
              "    </tr>\n",
              "  </tbody>\n",
              "</table>\n",
              "</div>"
            ],
            "text/plain": [
              "    age  weight  height  income_lpa  smoker       city      occupation  \\\n",
              "86   35    66.0    1.89   37.380000   False  Hyderabad      freelancer   \n",
              "82   35    56.0    1.77   12.960000   False      Delhi      unemployed   \n",
              "91   38   119.8    1.76   28.467885   False  Bangalore  government_job   \n",
              "96   26   113.8    1.54   34.010000   False      Delhi     private_job   \n",
              "6    19    80.1    1.68    3.590000    True  Hyderabad         student   \n",
              "\n",
              "   insurance_premium_category  \n",
              "86                        Low  \n",
              "82                        Low  \n",
              "91                        Low  \n",
              "96                        Low  \n",
              "6                      Medium  "
            ]
          },
          "execution_count": 5,
          "metadata": {},
          "output_type": "execute_result"
        }
      ],
      "source": [
        "df.sample(5)"
      ]
    },
    {
      "cell_type": "code",
      "execution_count": 6,
      "metadata": {
        "colab": {
          "base_uri": "https://localhost:8080/"
        },
        "id": "LcHXkvQBDsRR",
        "outputId": "b09e1064-8415-473b-c180-eff93e232e5a"
      },
      "outputs": [
        {
          "data": {
            "text/plain": [
              "array(['retired', 'freelancer', 'student', 'government_job',\n",
              "       'business_owner', 'unemployed', 'private_job'], dtype=object)"
            ]
          },
          "execution_count": 6,
          "metadata": {},
          "output_type": "execute_result"
        }
      ],
      "source": [
        "df['occupation'].unique()"
      ]
    },
    {
      "cell_type": "code",
      "execution_count": 7,
      "metadata": {
        "id": "EyeZG1JgEx7t"
      },
      "outputs": [],
      "source": [
        "df_feat = df.copy()"
      ]
    },
    {
      "cell_type": "code",
      "execution_count": 8,
      "metadata": {
        "id": "prIKt2enEuXz"
      },
      "outputs": [],
      "source": [
        "# Feature 1: BMI\n",
        "df_feat[\"bmi\"] = df_feat[\"weight\"] / (df_feat[\"height\"] ** 2)"
      ]
    },
    {
      "cell_type": "code",
      "execution_count": 9,
      "metadata": {
        "id": "jXg_3H5kE4LQ"
      },
      "outputs": [],
      "source": [
        "# Feature 2: Age Group\n",
        "def age_group(age):\n",
        "    if age < 25:\n",
        "        return \"young\"\n",
        "    elif age < 45:\n",
        "        return \"adult\"\n",
        "    elif age < 60:\n",
        "        return \"middle_aged\"\n",
        "    return \"senior\""
      ]
    },
    {
      "cell_type": "code",
      "execution_count": 10,
      "metadata": {
        "id": "M3jhIYCXFNjq"
      },
      "outputs": [],
      "source": [
        "df_feat[\"age_group\"] = df_feat[\"age\"].apply(age_group)"
      ]
    },
    {
      "cell_type": "code",
      "execution_count": 11,
      "metadata": {
        "id": "2lBxrtKVFSLx"
      },
      "outputs": [],
      "source": [
        "# Feature 3: Lifestyle Risk\n",
        "def lifestyle_risk(row):\n",
        "    if row[\"smoker\"] and row[\"bmi\"] > 30:\n",
        "        return \"high\"\n",
        "    elif row[\"smoker\"] or row[\"bmi\"] > 27:\n",
        "        return \"medium\"\n",
        "    else:\n",
        "        return \"low\""
      ]
    },
    {
      "cell_type": "code",
      "execution_count": 12,
      "metadata": {
        "id": "xD-OrmB8FYpG"
      },
      "outputs": [],
      "source": [
        "df_feat[\"lifestyle_risk\"] = df_feat.apply(lifestyle_risk, axis=1)"
      ]
    },
    {
      "cell_type": "code",
      "execution_count": 13,
      "metadata": {
        "id": "gvFQKpKHF3Nw"
      },
      "outputs": [],
      "source": [
        "tier_1_cities = [\"Mumbai\", \"Delhi\", \"Bangalore\", \"Chennai\", \"Kolkata\", \"Hyderabad\", \"Pune\"]\n",
        "tier_2_cities = [\n",
        "    \"Jaipur\", \"Chandigarh\", \"Indore\", \"Lucknow\", \"Patna\", \"Ranchi\", \"Visakhapatnam\", \"Coimbatore\",\n",
        "    \"Bhopal\", \"Nagpur\", \"Vadodara\", \"Surat\", \"Rajkot\", \"Jodhpur\", \"Raipur\", \"Amritsar\", \"Varanasi\",\n",
        "    \"Agra\", \"Dehradun\", \"Mysore\", \"Jabalpur\", \"Guwahati\", \"Thiruvananthapuram\", \"Ludhiana\", \"Nashik\",\n",
        "    \"Allahabad\", \"Udaipur\", \"Aurangabad\", \"Hubli\", \"Belgaum\", \"Salem\", \"Vijayawada\", \"Tiruchirappalli\",\n",
        "    \"Bhavnagar\", \"Gwalior\", \"Dhanbad\", \"Bareilly\", \"Aligarh\", \"Gaya\", \"Kozhikode\", \"Warangal\",\n",
        "    \"Kolhapur\", \"Bilaspur\", \"Jalandhar\", \"Noida\", \"Guntur\", \"Asansol\", \"Siliguri\"\n",
        "]"
      ]
    },
    {
      "cell_type": "code",
      "execution_count": 14,
      "metadata": {
        "id": "Jm7ERUuvGFMF"
      },
      "outputs": [],
      "source": [
        "# Feature 4: City Tier\n",
        "def city_tier(city):\n",
        "    if city in tier_1_cities:\n",
        "        return 1\n",
        "    elif city in tier_2_cities:\n",
        "        return 2\n",
        "    else:\n",
        "        return 3"
      ]
    },
    {
      "cell_type": "code",
      "execution_count": 15,
      "metadata": {
        "id": "wpG-vsxlGI1R"
      },
      "outputs": [],
      "source": [
        "df_feat[\"city_tier\"] = df_feat[\"city\"].apply(city_tier)"
      ]
    },
    {
      "cell_type": "code",
      "execution_count": 16,
      "metadata": {
        "colab": {
          "base_uri": "https://localhost:8080/",
          "height": 206
        },
        "id": "ckZHVjXpD9Yl",
        "outputId": "5f057a7a-5d8a-492b-c4b6-28721ba8cf49"
      },
      "outputs": [
        {
          "data": {
            "application/vnd.microsoft.datawrangler.viewer.v0+json": {
              "columns": [
                {
                  "name": "index",
                  "rawType": "int64",
                  "type": "integer"
                },
                {
                  "name": "income_lpa",
                  "rawType": "float64",
                  "type": "float"
                },
                {
                  "name": "occupation",
                  "rawType": "object",
                  "type": "string"
                },
                {
                  "name": "bmi",
                  "rawType": "float64",
                  "type": "float"
                },
                {
                  "name": "age_group",
                  "rawType": "object",
                  "type": "string"
                },
                {
                  "name": "lifestyle_risk",
                  "rawType": "object",
                  "type": "string"
                },
                {
                  "name": "city_tier",
                  "rawType": "int64",
                  "type": "integer"
                },
                {
                  "name": "insurance_premium_category",
                  "rawType": "object",
                  "type": "string"
                }
              ],
              "ref": "e0dd67ce-8611-4566-8abf-2553d66030b8",
              "rows": [
                [
                  "80",
                  "50.0",
                  "unemployed",
                  "34.35046075513643",
                  "middle_aged",
                  "medium",
                  "2",
                  "High"
                ],
                [
                  "9",
                  "43.07",
                  "business_owner",
                  "24.858832570416652",
                  "middle_aged",
                  "low",
                  "1",
                  "Low"
                ],
                [
                  "4",
                  "3.94",
                  "retired",
                  "24.296874999999996",
                  "senior",
                  "medium",
                  "2",
                  "High"
                ],
                [
                  "57",
                  "1.36",
                  "retired",
                  "26.889814782395575",
                  "senior",
                  "medium",
                  "2",
                  "High"
                ],
                [
                  "74",
                  "1.88",
                  "retired",
                  "29.979760499241017",
                  "senior",
                  "medium",
                  "2",
                  "High"
                ]
              ],
              "shape": {
                "columns": 7,
                "rows": 5
              }
            },
            "text/html": [
              "<div>\n",
              "<style scoped>\n",
              "    .dataframe tbody tr th:only-of-type {\n",
              "        vertical-align: middle;\n",
              "    }\n",
              "\n",
              "    .dataframe tbody tr th {\n",
              "        vertical-align: top;\n",
              "    }\n",
              "\n",
              "    .dataframe thead th {\n",
              "        text-align: right;\n",
              "    }\n",
              "</style>\n",
              "<table border=\"1\" class=\"dataframe\">\n",
              "  <thead>\n",
              "    <tr style=\"text-align: right;\">\n",
              "      <th></th>\n",
              "      <th>income_lpa</th>\n",
              "      <th>occupation</th>\n",
              "      <th>bmi</th>\n",
              "      <th>age_group</th>\n",
              "      <th>lifestyle_risk</th>\n",
              "      <th>city_tier</th>\n",
              "      <th>insurance_premium_category</th>\n",
              "    </tr>\n",
              "  </thead>\n",
              "  <tbody>\n",
              "    <tr>\n",
              "      <th>80</th>\n",
              "      <td>50.00</td>\n",
              "      <td>unemployed</td>\n",
              "      <td>34.350461</td>\n",
              "      <td>middle_aged</td>\n",
              "      <td>medium</td>\n",
              "      <td>2</td>\n",
              "      <td>High</td>\n",
              "    </tr>\n",
              "    <tr>\n",
              "      <th>9</th>\n",
              "      <td>43.07</td>\n",
              "      <td>business_owner</td>\n",
              "      <td>24.858833</td>\n",
              "      <td>middle_aged</td>\n",
              "      <td>low</td>\n",
              "      <td>1</td>\n",
              "      <td>Low</td>\n",
              "    </tr>\n",
              "    <tr>\n",
              "      <th>4</th>\n",
              "      <td>3.94</td>\n",
              "      <td>retired</td>\n",
              "      <td>24.296875</td>\n",
              "      <td>senior</td>\n",
              "      <td>medium</td>\n",
              "      <td>2</td>\n",
              "      <td>High</td>\n",
              "    </tr>\n",
              "    <tr>\n",
              "      <th>57</th>\n",
              "      <td>1.36</td>\n",
              "      <td>retired</td>\n",
              "      <td>26.889815</td>\n",
              "      <td>senior</td>\n",
              "      <td>medium</td>\n",
              "      <td>2</td>\n",
              "      <td>High</td>\n",
              "    </tr>\n",
              "    <tr>\n",
              "      <th>74</th>\n",
              "      <td>1.88</td>\n",
              "      <td>retired</td>\n",
              "      <td>29.979760</td>\n",
              "      <td>senior</td>\n",
              "      <td>medium</td>\n",
              "      <td>2</td>\n",
              "      <td>High</td>\n",
              "    </tr>\n",
              "  </tbody>\n",
              "</table>\n",
              "</div>"
            ],
            "text/plain": [
              "    income_lpa      occupation        bmi    age_group lifestyle_risk  \\\n",
              "80       50.00      unemployed  34.350461  middle_aged         medium   \n",
              "9        43.07  business_owner  24.858833  middle_aged            low   \n",
              "4         3.94         retired  24.296875       senior         medium   \n",
              "57        1.36         retired  26.889815       senior         medium   \n",
              "74        1.88         retired  29.979760       senior         medium   \n",
              "\n",
              "    city_tier insurance_premium_category  \n",
              "80          2                       High  \n",
              "9           1                        Low  \n",
              "4           2                       High  \n",
              "57          2                       High  \n",
              "74          2                       High  "
            ]
          },
          "execution_count": 16,
          "metadata": {},
          "output_type": "execute_result"
        }
      ],
      "source": [
        "df_feat.drop(columns=['age', 'weight', 'height', 'smoker', 'city'])[['income_lpa', 'occupation', 'bmi', 'age_group', 'lifestyle_risk', 'city_tier', 'insurance_premium_category']].sample(5)"
      ]
    },
    {
      "cell_type": "code",
      "execution_count": 17,
      "metadata": {
        "id": "mDDCXPRJD-FV"
      },
      "outputs": [],
      "source": [
        "# Select features and target\n",
        "X = df_feat[[\"bmi\", \"age_group\", \"lifestyle_risk\", \"city_tier\", \"income_lpa\", \"occupation\"]]\n",
        "y = df_feat[\"insurance_premium_category\"]"
      ]
    },
    {
      "cell_type": "code",
      "execution_count": 18,
      "metadata": {
        "colab": {
          "base_uri": "https://localhost:8080/",
          "height": 423
        },
        "id": "lQmHd8guHP9g",
        "outputId": "e7a76749-bda6-4d7a-907b-78f062a77c99"
      },
      "outputs": [
        {
          "data": {
            "application/vnd.microsoft.datawrangler.viewer.v0+json": {
              "columns": [
                {
                  "name": "index",
                  "rawType": "int64",
                  "type": "integer"
                },
                {
                  "name": "bmi",
                  "rawType": "float64",
                  "type": "float"
                },
                {
                  "name": "age_group",
                  "rawType": "object",
                  "type": "string"
                },
                {
                  "name": "lifestyle_risk",
                  "rawType": "object",
                  "type": "string"
                },
                {
                  "name": "city_tier",
                  "rawType": "int64",
                  "type": "integer"
                },
                {
                  "name": "income_lpa",
                  "rawType": "float64",
                  "type": "float"
                },
                {
                  "name": "occupation",
                  "rawType": "object",
                  "type": "string"
                }
              ],
              "ref": "a25660f0-4aeb-4916-a73e-193b537f99bd",
              "rows": [
                [
                  "0",
                  "49.227481919789604",
                  "senior",
                  "medium",
                  "2",
                  "2.92",
                  "retired"
                ],
                [
                  "1",
                  "30.189017289259155",
                  "adult",
                  "medium",
                  "1",
                  "34.28",
                  "freelancer"
                ],
                [
                  "2",
                  "21.118381915526474",
                  "adult",
                  "low",
                  "2",
                  "36.64",
                  "freelancer"
                ],
                [
                  "3",
                  "45.53590010405827",
                  "young",
                  "high",
                  "1",
                  "3.34",
                  "student"
                ],
                [
                  "4",
                  "24.296874999999996",
                  "senior",
                  "medium",
                  "2",
                  "3.94",
                  "retired"
                ],
                [
                  "5",
                  "22.826244737988098",
                  "middle_aged",
                  "low",
                  "3",
                  "50.0",
                  "freelancer"
                ],
                [
                  "6",
                  "28.38010204081633",
                  "young",
                  "medium",
                  "1",
                  "3.59",
                  "student"
                ],
                [
                  "7",
                  "33.36068678197197",
                  "adult",
                  "high",
                  "1",
                  "10.865820771380372",
                  "government_job"
                ],
                [
                  "8",
                  "23.233456176894723",
                  "senior",
                  "low",
                  "2",
                  "1.78",
                  "retired"
                ],
                [
                  "9",
                  "24.858832570416652",
                  "middle_aged",
                  "low",
                  "1",
                  "43.07",
                  "business_owner"
                ],
                [
                  "10",
                  "22.949982444380606",
                  "adult",
                  "medium",
                  "1",
                  "32.78",
                  "business_owner"
                ],
                [
                  "11",
                  "31.722550953320184",
                  "adult",
                  "high",
                  "1",
                  "10.899386596696989",
                  "government_job"
                ],
                [
                  "12",
                  "30.04671127382906",
                  "adult",
                  "high",
                  "2",
                  "17.58",
                  "freelancer"
                ],
                [
                  "13",
                  "27.58742911153119",
                  "adult",
                  "medium",
                  "1",
                  "11.95",
                  "freelancer"
                ],
                [
                  "14",
                  "32.80073461891644",
                  "middle_aged",
                  "medium",
                  "3",
                  "13.50516648107039",
                  "government_job"
                ],
                [
                  "15",
                  "21.860827664399096",
                  "senior",
                  "medium",
                  "1",
                  "2.99",
                  "retired"
                ],
                [
                  "16",
                  "27.767888928444286",
                  "senior",
                  "medium",
                  "1",
                  "0.61",
                  "retired"
                ],
                [
                  "17",
                  "31.176470588235297",
                  "senior",
                  "medium",
                  "1",
                  "2.23",
                  "retired"
                ],
                [
                  "18",
                  "24.969135802469136",
                  "middle_aged",
                  "medium",
                  "3",
                  "38.14",
                  "business_owner"
                ],
                [
                  "19",
                  "43.43749999999999",
                  "young",
                  "high",
                  "2",
                  "2.79",
                  "student"
                ],
                [
                  "20",
                  "17.005113221329438",
                  "adult",
                  "medium",
                  "2",
                  "30.65",
                  "business_owner"
                ],
                [
                  "21",
                  "27.380671077504726",
                  "senior",
                  "medium",
                  "2",
                  "2.91",
                  "retired"
                ],
                [
                  "22",
                  "31.771626504225267",
                  "middle_aged",
                  "medium",
                  "2",
                  "30.0",
                  "government_job"
                ],
                [
                  "23",
                  "22.187855068804442",
                  "adult",
                  "low",
                  "2",
                  "23.71",
                  "unemployed"
                ],
                [
                  "24",
                  "19.669037596167804",
                  "middle_aged",
                  "low",
                  "2",
                  "18.6",
                  "private_job"
                ],
                [
                  "25",
                  "25.05723204994797",
                  "middle_aged",
                  "low",
                  "2",
                  "30.0",
                  "government_job"
                ],
                [
                  "26",
                  "30.477219243084754",
                  "adult",
                  "medium",
                  "2",
                  "23.61",
                  "freelancer"
                ],
                [
                  "27",
                  "35.15970205782098",
                  "middle_aged",
                  "medium",
                  "2",
                  "34.33",
                  "private_job"
                ],
                [
                  "28",
                  "31.584532317967604",
                  "adult",
                  "medium",
                  "1",
                  "11.63",
                  "unemployed"
                ],
                [
                  "29",
                  "42.74931049499202",
                  "senior",
                  "high",
                  "2",
                  "50.0",
                  "business_owner"
                ],
                [
                  "30",
                  "29.937518794480265",
                  "adult",
                  "medium",
                  "1",
                  "32.97",
                  "business_owner"
                ],
                [
                  "31",
                  "15.258741676371343",
                  "adult",
                  "medium",
                  "2",
                  "11.77",
                  "private_job"
                ],
                [
                  "32",
                  "31.49584487534626",
                  "middle_aged",
                  "medium",
                  "2",
                  "50.0",
                  "private_job"
                ],
                [
                  "33",
                  "21.791064049586776",
                  "senior",
                  "low",
                  "1",
                  "1.46",
                  "retired"
                ],
                [
                  "34",
                  "32.91428571428571",
                  "senior",
                  "high",
                  "3",
                  "0.68",
                  "retired"
                ],
                [
                  "35",
                  "20.7625783410945",
                  "middle_aged",
                  "medium",
                  "2",
                  "43.28",
                  "private_job"
                ],
                [
                  "36",
                  "21.71326591314694",
                  "senior",
                  "low",
                  "1",
                  "0.53",
                  "retired"
                ],
                [
                  "37",
                  "17.852126962329518",
                  "adult",
                  "low",
                  "2",
                  "8.09",
                  "freelancer"
                ],
                [
                  "38",
                  "33.2049329630625",
                  "senior",
                  "high",
                  "2",
                  "1.84",
                  "retired"
                ],
                [
                  "39",
                  "35.64342403628118",
                  "middle_aged",
                  "high",
                  "1",
                  "11.99",
                  "unemployed"
                ],
                [
                  "40",
                  "24.34960912469563",
                  "adult",
                  "medium",
                  "1",
                  "40.19",
                  "unemployed"
                ],
                [
                  "41",
                  "22.507433475102562",
                  "senior",
                  "low",
                  "1",
                  "3.87",
                  "retired"
                ],
                [
                  "42",
                  "21.81579850816142",
                  "young",
                  "medium",
                  "2",
                  "2.6",
                  "student"
                ],
                [
                  "43",
                  "29.308163195513153",
                  "senior",
                  "medium",
                  "1",
                  "1.56",
                  "retired"
                ],
                [
                  "44",
                  "30.078124999999993",
                  "middle_aged",
                  "high",
                  "2",
                  "50.0",
                  "private_job"
                ],
                [
                  "45",
                  "33.46666666666667",
                  "middle_aged",
                  "medium",
                  "2",
                  "18.39",
                  "unemployed"
                ],
                [
                  "46",
                  "33.6727656294373",
                  "adult",
                  "high",
                  "1",
                  "25.57",
                  "unemployed"
                ],
                [
                  "47",
                  "33.286625296691355",
                  "middle_aged",
                  "medium",
                  "2",
                  "8.34",
                  "private_job"
                ],
                [
                  "48",
                  "34.40267092466251",
                  "adult",
                  "high",
                  "1",
                  "32.69",
                  "unemployed"
                ],
                [
                  "49",
                  "42.701490145809956",
                  "young",
                  "medium",
                  "3",
                  "2.29",
                  "student"
                ]
              ],
              "shape": {
                "columns": 6,
                "rows": 100
              }
            },
            "text/html": [
              "<div>\n",
              "<style scoped>\n",
              "    .dataframe tbody tr th:only-of-type {\n",
              "        vertical-align: middle;\n",
              "    }\n",
              "\n",
              "    .dataframe tbody tr th {\n",
              "        vertical-align: top;\n",
              "    }\n",
              "\n",
              "    .dataframe thead th {\n",
              "        text-align: right;\n",
              "    }\n",
              "</style>\n",
              "<table border=\"1\" class=\"dataframe\">\n",
              "  <thead>\n",
              "    <tr style=\"text-align: right;\">\n",
              "      <th></th>\n",
              "      <th>bmi</th>\n",
              "      <th>age_group</th>\n",
              "      <th>lifestyle_risk</th>\n",
              "      <th>city_tier</th>\n",
              "      <th>income_lpa</th>\n",
              "      <th>occupation</th>\n",
              "    </tr>\n",
              "  </thead>\n",
              "  <tbody>\n",
              "    <tr>\n",
              "      <th>0</th>\n",
              "      <td>49.227482</td>\n",
              "      <td>senior</td>\n",
              "      <td>medium</td>\n",
              "      <td>2</td>\n",
              "      <td>2.92000</td>\n",
              "      <td>retired</td>\n",
              "    </tr>\n",
              "    <tr>\n",
              "      <th>1</th>\n",
              "      <td>30.189017</td>\n",
              "      <td>adult</td>\n",
              "      <td>medium</td>\n",
              "      <td>1</td>\n",
              "      <td>34.28000</td>\n",
              "      <td>freelancer</td>\n",
              "    </tr>\n",
              "    <tr>\n",
              "      <th>2</th>\n",
              "      <td>21.118382</td>\n",
              "      <td>adult</td>\n",
              "      <td>low</td>\n",
              "      <td>2</td>\n",
              "      <td>36.64000</td>\n",
              "      <td>freelancer</td>\n",
              "    </tr>\n",
              "    <tr>\n",
              "      <th>3</th>\n",
              "      <td>45.535900</td>\n",
              "      <td>young</td>\n",
              "      <td>high</td>\n",
              "      <td>1</td>\n",
              "      <td>3.34000</td>\n",
              "      <td>student</td>\n",
              "    </tr>\n",
              "    <tr>\n",
              "      <th>4</th>\n",
              "      <td>24.296875</td>\n",
              "      <td>senior</td>\n",
              "      <td>medium</td>\n",
              "      <td>2</td>\n",
              "      <td>3.94000</td>\n",
              "      <td>retired</td>\n",
              "    </tr>\n",
              "    <tr>\n",
              "      <th>...</th>\n",
              "      <td>...</td>\n",
              "      <td>...</td>\n",
              "      <td>...</td>\n",
              "      <td>...</td>\n",
              "      <td>...</td>\n",
              "      <td>...</td>\n",
              "    </tr>\n",
              "    <tr>\n",
              "      <th>95</th>\n",
              "      <td>21.420747</td>\n",
              "      <td>adult</td>\n",
              "      <td>low</td>\n",
              "      <td>2</td>\n",
              "      <td>19.64000</td>\n",
              "      <td>business_owner</td>\n",
              "    </tr>\n",
              "    <tr>\n",
              "      <th>96</th>\n",
              "      <td>47.984483</td>\n",
              "      <td>adult</td>\n",
              "      <td>medium</td>\n",
              "      <td>1</td>\n",
              "      <td>34.01000</td>\n",
              "      <td>private_job</td>\n",
              "    </tr>\n",
              "    <tr>\n",
              "      <th>97</th>\n",
              "      <td>18.765432</td>\n",
              "      <td>middle_aged</td>\n",
              "      <td>low</td>\n",
              "      <td>1</td>\n",
              "      <td>44.86000</td>\n",
              "      <td>freelancer</td>\n",
              "    </tr>\n",
              "    <tr>\n",
              "      <th>98</th>\n",
              "      <td>30.521676</td>\n",
              "      <td>adult</td>\n",
              "      <td>medium</td>\n",
              "      <td>1</td>\n",
              "      <td>28.30000</td>\n",
              "      <td>business_owner</td>\n",
              "    </tr>\n",
              "    <tr>\n",
              "      <th>99</th>\n",
              "      <td>27.688778</td>\n",
              "      <td>adult</td>\n",
              "      <td>medium</td>\n",
              "      <td>1</td>\n",
              "      <td>28.16664</td>\n",
              "      <td>government_job</td>\n",
              "    </tr>\n",
              "  </tbody>\n",
              "</table>\n",
              "<p>100 rows × 6 columns</p>\n",
              "</div>"
            ],
            "text/plain": [
              "          bmi    age_group lifestyle_risk  city_tier  income_lpa  \\\n",
              "0   49.227482       senior         medium          2     2.92000   \n",
              "1   30.189017        adult         medium          1    34.28000   \n",
              "2   21.118382        adult            low          2    36.64000   \n",
              "3   45.535900        young           high          1     3.34000   \n",
              "4   24.296875       senior         medium          2     3.94000   \n",
              "..        ...          ...            ...        ...         ...   \n",
              "95  21.420747        adult            low          2    19.64000   \n",
              "96  47.984483        adult         medium          1    34.01000   \n",
              "97  18.765432  middle_aged            low          1    44.86000   \n",
              "98  30.521676        adult         medium          1    28.30000   \n",
              "99  27.688778        adult         medium          1    28.16664   \n",
              "\n",
              "        occupation  \n",
              "0          retired  \n",
              "1       freelancer  \n",
              "2       freelancer  \n",
              "3          student  \n",
              "4          retired  \n",
              "..             ...  \n",
              "95  business_owner  \n",
              "96     private_job  \n",
              "97      freelancer  \n",
              "98  business_owner  \n",
              "99  government_job  \n",
              "\n",
              "[100 rows x 6 columns]"
            ]
          },
          "execution_count": 18,
          "metadata": {},
          "output_type": "execute_result"
        }
      ],
      "source": [
        "X"
      ]
    },
    {
      "cell_type": "code",
      "execution_count": 19,
      "metadata": {
        "colab": {
          "base_uri": "https://localhost:8080/",
          "height": 458
        },
        "id": "S6aDHXNsHQZk",
        "outputId": "22c3d628-b90b-4b4f-840f-e93ec0662169"
      },
      "outputs": [
        {
          "data": {
            "application/vnd.microsoft.datawrangler.viewer.v0+json": {
              "columns": [
                {
                  "name": "index",
                  "rawType": "int64",
                  "type": "integer"
                },
                {
                  "name": "insurance_premium_category",
                  "rawType": "object",
                  "type": "string"
                }
              ],
              "ref": "14f8671b-9d5a-4c48-a54f-1e99bbc1a079",
              "rows": [
                [
                  "0",
                  "High"
                ],
                [
                  "1",
                  "Low"
                ],
                [
                  "2",
                  "Low"
                ],
                [
                  "3",
                  "Medium"
                ],
                [
                  "4",
                  "High"
                ],
                [
                  "5",
                  "Medium"
                ],
                [
                  "6",
                  "Medium"
                ],
                [
                  "7",
                  "Medium"
                ],
                [
                  "8",
                  "Medium"
                ],
                [
                  "9",
                  "Low"
                ],
                [
                  "10",
                  "Medium"
                ],
                [
                  "11",
                  "Low"
                ],
                [
                  "12",
                  "High"
                ],
                [
                  "13",
                  "Low"
                ],
                [
                  "14",
                  "Medium"
                ],
                [
                  "15",
                  "Medium"
                ],
                [
                  "16",
                  "Medium"
                ],
                [
                  "17",
                  "Medium"
                ],
                [
                  "18",
                  "High"
                ],
                [
                  "19",
                  "High"
                ],
                [
                  "20",
                  "Medium"
                ],
                [
                  "21",
                  "High"
                ],
                [
                  "22",
                  "Low"
                ],
                [
                  "23",
                  "Medium"
                ],
                [
                  "24",
                  "Medium"
                ],
                [
                  "25",
                  "Low"
                ],
                [
                  "26",
                  "Medium"
                ],
                [
                  "27",
                  "Medium"
                ],
                [
                  "28",
                  "Low"
                ],
                [
                  "29",
                  "High"
                ],
                [
                  "30",
                  "Low"
                ],
                [
                  "31",
                  "Medium"
                ],
                [
                  "32",
                  "Medium"
                ],
                [
                  "33",
                  "Medium"
                ],
                [
                  "34",
                  "High"
                ],
                [
                  "35",
                  "Medium"
                ],
                [
                  "36",
                  "Medium"
                ],
                [
                  "37",
                  "Medium"
                ],
                [
                  "38",
                  "High"
                ],
                [
                  "39",
                  "High"
                ],
                [
                  "40",
                  "Medium"
                ],
                [
                  "41",
                  "Medium"
                ],
                [
                  "42",
                  "Medium"
                ],
                [
                  "43",
                  "Medium"
                ],
                [
                  "44",
                  "Medium"
                ],
                [
                  "45",
                  "High"
                ],
                [
                  "46",
                  "High"
                ],
                [
                  "47",
                  "Medium"
                ],
                [
                  "48",
                  "Medium"
                ],
                [
                  "49",
                  "Medium"
                ]
              ],
              "shape": {
                "columns": 1,
                "rows": 100
              }
            },
            "text/plain": [
              "0       High\n",
              "1        Low\n",
              "2        Low\n",
              "3     Medium\n",
              "4       High\n",
              "       ...  \n",
              "95       Low\n",
              "96       Low\n",
              "97       Low\n",
              "98       Low\n",
              "99       Low\n",
              "Name: insurance_premium_category, Length: 100, dtype: object"
            ]
          },
          "execution_count": 19,
          "metadata": {},
          "output_type": "execute_result"
        }
      ],
      "source": [
        "y"
      ]
    },
    {
      "cell_type": "code",
      "execution_count": 20,
      "metadata": {
        "id": "PIBss-X6HRzX"
      },
      "outputs": [],
      "source": [
        "# Define categorical and numeric features\n",
        "categorical_features = [\"age_group\", \"lifestyle_risk\", \"occupation\", \"city_tier\"]\n",
        "numeric_features = [\"bmi\", \"income_lpa\"]"
      ]
    },
    {
      "cell_type": "code",
      "execution_count": 21,
      "metadata": {
        "id": "tohcPtlaHYug"
      },
      "outputs": [],
      "source": [
        "# Create column transformer for OHE\n",
        "preprocessor = ColumnTransformer(\n",
        "    transformers=[\n",
        "        (\"cat\", OneHotEncoder(), categorical_features),\n",
        "        (\"num\", \"passthrough\", numeric_features)\n",
        "    ]\n",
        ")"
      ]
    },
    {
      "cell_type": "code",
      "execution_count": 22,
      "metadata": {
        "id": "bIzQ6scEHeds"
      },
      "outputs": [],
      "source": [
        "# Create a pipeline with preprocessing and random forest classifier\n",
        "pipeline = Pipeline(steps=[\n",
        "    (\"preprocessor\", preprocessor),\n",
        "    (\"classifier\", RandomForestClassifier(random_state=42))\n",
        "])"
      ]
    },
    {
      "cell_type": "code",
      "execution_count": 23,
      "metadata": {
        "colab": {
          "base_uri": "https://localhost:8080/",
          "height": 247
        },
        "id": "CXQxokiDHgNp",
        "outputId": "6ca4a1f5-c69f-4e29-e18d-ac898afc3d60"
      },
      "outputs": [
        {
          "data": {
            "text/html": [
              "<style>#sk-container-id-1 {\n",
              "  /* Definition of color scheme common for light and dark mode */\n",
              "  --sklearn-color-text: #000;\n",
              "  --sklearn-color-text-muted: #666;\n",
              "  --sklearn-color-line: gray;\n",
              "  /* Definition of color scheme for unfitted estimators */\n",
              "  --sklearn-color-unfitted-level-0: #fff5e6;\n",
              "  --sklearn-color-unfitted-level-1: #f6e4d2;\n",
              "  --sklearn-color-unfitted-level-2: #ffe0b3;\n",
              "  --sklearn-color-unfitted-level-3: chocolate;\n",
              "  /* Definition of color scheme for fitted estimators */\n",
              "  --sklearn-color-fitted-level-0: #f0f8ff;\n",
              "  --sklearn-color-fitted-level-1: #d4ebff;\n",
              "  --sklearn-color-fitted-level-2: #b3dbfd;\n",
              "  --sklearn-color-fitted-level-3: cornflowerblue;\n",
              "\n",
              "  /* Specific color for light theme */\n",
              "  --sklearn-color-text-on-default-background: var(--sg-text-color, var(--theme-code-foreground, var(--jp-content-font-color1, black)));\n",
              "  --sklearn-color-background: var(--sg-background-color, var(--theme-background, var(--jp-layout-color0, white)));\n",
              "  --sklearn-color-border-box: var(--sg-text-color, var(--theme-code-foreground, var(--jp-content-font-color1, black)));\n",
              "  --sklearn-color-icon: #696969;\n",
              "\n",
              "  @media (prefers-color-scheme: dark) {\n",
              "    /* Redefinition of color scheme for dark theme */\n",
              "    --sklearn-color-text-on-default-background: var(--sg-text-color, var(--theme-code-foreground, var(--jp-content-font-color1, white)));\n",
              "    --sklearn-color-background: var(--sg-background-color, var(--theme-background, var(--jp-layout-color0, #111)));\n",
              "    --sklearn-color-border-box: var(--sg-text-color, var(--theme-code-foreground, var(--jp-content-font-color1, white)));\n",
              "    --sklearn-color-icon: #878787;\n",
              "  }\n",
              "}\n",
              "\n",
              "#sk-container-id-1 {\n",
              "  color: var(--sklearn-color-text);\n",
              "}\n",
              "\n",
              "#sk-container-id-1 pre {\n",
              "  padding: 0;\n",
              "}\n",
              "\n",
              "#sk-container-id-1 input.sk-hidden--visually {\n",
              "  border: 0;\n",
              "  clip: rect(1px 1px 1px 1px);\n",
              "  clip: rect(1px, 1px, 1px, 1px);\n",
              "  height: 1px;\n",
              "  margin: -1px;\n",
              "  overflow: hidden;\n",
              "  padding: 0;\n",
              "  position: absolute;\n",
              "  width: 1px;\n",
              "}\n",
              "\n",
              "#sk-container-id-1 div.sk-dashed-wrapped {\n",
              "  border: 1px dashed var(--sklearn-color-line);\n",
              "  margin: 0 0.4em 0.5em 0.4em;\n",
              "  box-sizing: border-box;\n",
              "  padding-bottom: 0.4em;\n",
              "  background-color: var(--sklearn-color-background);\n",
              "}\n",
              "\n",
              "#sk-container-id-1 div.sk-container {\n",
              "  /* jupyter's `normalize.less` sets `[hidden] { display: none; }`\n",
              "     but bootstrap.min.css set `[hidden] { display: none !important; }`\n",
              "     so we also need the `!important` here to be able to override the\n",
              "     default hidden behavior on the sphinx rendered scikit-learn.org.\n",
              "     See: https://github.com/scikit-learn/scikit-learn/issues/21755 */\n",
              "  display: inline-block !important;\n",
              "  position: relative;\n",
              "}\n",
              "\n",
              "#sk-container-id-1 div.sk-text-repr-fallback {\n",
              "  display: none;\n",
              "}\n",
              "\n",
              "div.sk-parallel-item,\n",
              "div.sk-serial,\n",
              "div.sk-item {\n",
              "  /* draw centered vertical line to link estimators */\n",
              "  background-image: linear-gradient(var(--sklearn-color-text-on-default-background), var(--sklearn-color-text-on-default-background));\n",
              "  background-size: 2px 100%;\n",
              "  background-repeat: no-repeat;\n",
              "  background-position: center center;\n",
              "}\n",
              "\n",
              "/* Parallel-specific style estimator block */\n",
              "\n",
              "#sk-container-id-1 div.sk-parallel-item::after {\n",
              "  content: \"\";\n",
              "  width: 100%;\n",
              "  border-bottom: 2px solid var(--sklearn-color-text-on-default-background);\n",
              "  flex-grow: 1;\n",
              "}\n",
              "\n",
              "#sk-container-id-1 div.sk-parallel {\n",
              "  display: flex;\n",
              "  align-items: stretch;\n",
              "  justify-content: center;\n",
              "  background-color: var(--sklearn-color-background);\n",
              "  position: relative;\n",
              "}\n",
              "\n",
              "#sk-container-id-1 div.sk-parallel-item {\n",
              "  display: flex;\n",
              "  flex-direction: column;\n",
              "}\n",
              "\n",
              "#sk-container-id-1 div.sk-parallel-item:first-child::after {\n",
              "  align-self: flex-end;\n",
              "  width: 50%;\n",
              "}\n",
              "\n",
              "#sk-container-id-1 div.sk-parallel-item:last-child::after {\n",
              "  align-self: flex-start;\n",
              "  width: 50%;\n",
              "}\n",
              "\n",
              "#sk-container-id-1 div.sk-parallel-item:only-child::after {\n",
              "  width: 0;\n",
              "}\n",
              "\n",
              "/* Serial-specific style estimator block */\n",
              "\n",
              "#sk-container-id-1 div.sk-serial {\n",
              "  display: flex;\n",
              "  flex-direction: column;\n",
              "  align-items: center;\n",
              "  background-color: var(--sklearn-color-background);\n",
              "  padding-right: 1em;\n",
              "  padding-left: 1em;\n",
              "}\n",
              "\n",
              "\n",
              "/* Toggleable style: style used for estimator/Pipeline/ColumnTransformer box that is\n",
              "clickable and can be expanded/collapsed.\n",
              "- Pipeline and ColumnTransformer use this feature and define the default style\n",
              "- Estimators will overwrite some part of the style using the `sk-estimator` class\n",
              "*/\n",
              "\n",
              "/* Pipeline and ColumnTransformer style (default) */\n",
              "\n",
              "#sk-container-id-1 div.sk-toggleable {\n",
              "  /* Default theme specific background. It is overwritten whether we have a\n",
              "  specific estimator or a Pipeline/ColumnTransformer */\n",
              "  background-color: var(--sklearn-color-background);\n",
              "}\n",
              "\n",
              "/* Toggleable label */\n",
              "#sk-container-id-1 label.sk-toggleable__label {\n",
              "  cursor: pointer;\n",
              "  display: flex;\n",
              "  width: 100%;\n",
              "  margin-bottom: 0;\n",
              "  padding: 0.5em;\n",
              "  box-sizing: border-box;\n",
              "  text-align: center;\n",
              "  align-items: start;\n",
              "  justify-content: space-between;\n",
              "  gap: 0.5em;\n",
              "}\n",
              "\n",
              "#sk-container-id-1 label.sk-toggleable__label .caption {\n",
              "  font-size: 0.6rem;\n",
              "  font-weight: lighter;\n",
              "  color: var(--sklearn-color-text-muted);\n",
              "}\n",
              "\n",
              "#sk-container-id-1 label.sk-toggleable__label-arrow:before {\n",
              "  /* Arrow on the left of the label */\n",
              "  content: \"▸\";\n",
              "  float: left;\n",
              "  margin-right: 0.25em;\n",
              "  color: var(--sklearn-color-icon);\n",
              "}\n",
              "\n",
              "#sk-container-id-1 label.sk-toggleable__label-arrow:hover:before {\n",
              "  color: var(--sklearn-color-text);\n",
              "}\n",
              "\n",
              "/* Toggleable content - dropdown */\n",
              "\n",
              "#sk-container-id-1 div.sk-toggleable__content {\n",
              "  max-height: 0;\n",
              "  max-width: 0;\n",
              "  overflow: hidden;\n",
              "  text-align: left;\n",
              "  /* unfitted */\n",
              "  background-color: var(--sklearn-color-unfitted-level-0);\n",
              "}\n",
              "\n",
              "#sk-container-id-1 div.sk-toggleable__content.fitted {\n",
              "  /* fitted */\n",
              "  background-color: var(--sklearn-color-fitted-level-0);\n",
              "}\n",
              "\n",
              "#sk-container-id-1 div.sk-toggleable__content pre {\n",
              "  margin: 0.2em;\n",
              "  border-radius: 0.25em;\n",
              "  color: var(--sklearn-color-text);\n",
              "  /* unfitted */\n",
              "  background-color: var(--sklearn-color-unfitted-level-0);\n",
              "}\n",
              "\n",
              "#sk-container-id-1 div.sk-toggleable__content.fitted pre {\n",
              "  /* unfitted */\n",
              "  background-color: var(--sklearn-color-fitted-level-0);\n",
              "}\n",
              "\n",
              "#sk-container-id-1 input.sk-toggleable__control:checked~div.sk-toggleable__content {\n",
              "  /* Expand drop-down */\n",
              "  max-height: 200px;\n",
              "  max-width: 100%;\n",
              "  overflow: auto;\n",
              "}\n",
              "\n",
              "#sk-container-id-1 input.sk-toggleable__control:checked~label.sk-toggleable__label-arrow:before {\n",
              "  content: \"▾\";\n",
              "}\n",
              "\n",
              "/* Pipeline/ColumnTransformer-specific style */\n",
              "\n",
              "#sk-container-id-1 div.sk-label input.sk-toggleable__control:checked~label.sk-toggleable__label {\n",
              "  color: var(--sklearn-color-text);\n",
              "  background-color: var(--sklearn-color-unfitted-level-2);\n",
              "}\n",
              "\n",
              "#sk-container-id-1 div.sk-label.fitted input.sk-toggleable__control:checked~label.sk-toggleable__label {\n",
              "  background-color: var(--sklearn-color-fitted-level-2);\n",
              "}\n",
              "\n",
              "/* Estimator-specific style */\n",
              "\n",
              "/* Colorize estimator box */\n",
              "#sk-container-id-1 div.sk-estimator input.sk-toggleable__control:checked~label.sk-toggleable__label {\n",
              "  /* unfitted */\n",
              "  background-color: var(--sklearn-color-unfitted-level-2);\n",
              "}\n",
              "\n",
              "#sk-container-id-1 div.sk-estimator.fitted input.sk-toggleable__control:checked~label.sk-toggleable__label {\n",
              "  /* fitted */\n",
              "  background-color: var(--sklearn-color-fitted-level-2);\n",
              "}\n",
              "\n",
              "#sk-container-id-1 div.sk-label label.sk-toggleable__label,\n",
              "#sk-container-id-1 div.sk-label label {\n",
              "  /* The background is the default theme color */\n",
              "  color: var(--sklearn-color-text-on-default-background);\n",
              "}\n",
              "\n",
              "/* On hover, darken the color of the background */\n",
              "#sk-container-id-1 div.sk-label:hover label.sk-toggleable__label {\n",
              "  color: var(--sklearn-color-text);\n",
              "  background-color: var(--sklearn-color-unfitted-level-2);\n",
              "}\n",
              "\n",
              "/* Label box, darken color on hover, fitted */\n",
              "#sk-container-id-1 div.sk-label.fitted:hover label.sk-toggleable__label.fitted {\n",
              "  color: var(--sklearn-color-text);\n",
              "  background-color: var(--sklearn-color-fitted-level-2);\n",
              "}\n",
              "\n",
              "/* Estimator label */\n",
              "\n",
              "#sk-container-id-1 div.sk-label label {\n",
              "  font-family: monospace;\n",
              "  font-weight: bold;\n",
              "  display: inline-block;\n",
              "  line-height: 1.2em;\n",
              "}\n",
              "\n",
              "#sk-container-id-1 div.sk-label-container {\n",
              "  text-align: center;\n",
              "}\n",
              "\n",
              "/* Estimator-specific */\n",
              "#sk-container-id-1 div.sk-estimator {\n",
              "  font-family: monospace;\n",
              "  border: 1px dotted var(--sklearn-color-border-box);\n",
              "  border-radius: 0.25em;\n",
              "  box-sizing: border-box;\n",
              "  margin-bottom: 0.5em;\n",
              "  /* unfitted */\n",
              "  background-color: var(--sklearn-color-unfitted-level-0);\n",
              "}\n",
              "\n",
              "#sk-container-id-1 div.sk-estimator.fitted {\n",
              "  /* fitted */\n",
              "  background-color: var(--sklearn-color-fitted-level-0);\n",
              "}\n",
              "\n",
              "/* on hover */\n",
              "#sk-container-id-1 div.sk-estimator:hover {\n",
              "  /* unfitted */\n",
              "  background-color: var(--sklearn-color-unfitted-level-2);\n",
              "}\n",
              "\n",
              "#sk-container-id-1 div.sk-estimator.fitted:hover {\n",
              "  /* fitted */\n",
              "  background-color: var(--sklearn-color-fitted-level-2);\n",
              "}\n",
              "\n",
              "/* Specification for estimator info (e.g. \"i\" and \"?\") */\n",
              "\n",
              "/* Common style for \"i\" and \"?\" */\n",
              "\n",
              ".sk-estimator-doc-link,\n",
              "a:link.sk-estimator-doc-link,\n",
              "a:visited.sk-estimator-doc-link {\n",
              "  float: right;\n",
              "  font-size: smaller;\n",
              "  line-height: 1em;\n",
              "  font-family: monospace;\n",
              "  background-color: var(--sklearn-color-background);\n",
              "  border-radius: 1em;\n",
              "  height: 1em;\n",
              "  width: 1em;\n",
              "  text-decoration: none !important;\n",
              "  margin-left: 0.5em;\n",
              "  text-align: center;\n",
              "  /* unfitted */\n",
              "  border: var(--sklearn-color-unfitted-level-1) 1pt solid;\n",
              "  color: var(--sklearn-color-unfitted-level-1);\n",
              "}\n",
              "\n",
              ".sk-estimator-doc-link.fitted,\n",
              "a:link.sk-estimator-doc-link.fitted,\n",
              "a:visited.sk-estimator-doc-link.fitted {\n",
              "  /* fitted */\n",
              "  border: var(--sklearn-color-fitted-level-1) 1pt solid;\n",
              "  color: var(--sklearn-color-fitted-level-1);\n",
              "}\n",
              "\n",
              "/* On hover */\n",
              "div.sk-estimator:hover .sk-estimator-doc-link:hover,\n",
              ".sk-estimator-doc-link:hover,\n",
              "div.sk-label-container:hover .sk-estimator-doc-link:hover,\n",
              ".sk-estimator-doc-link:hover {\n",
              "  /* unfitted */\n",
              "  background-color: var(--sklearn-color-unfitted-level-3);\n",
              "  color: var(--sklearn-color-background);\n",
              "  text-decoration: none;\n",
              "}\n",
              "\n",
              "div.sk-estimator.fitted:hover .sk-estimator-doc-link.fitted:hover,\n",
              ".sk-estimator-doc-link.fitted:hover,\n",
              "div.sk-label-container:hover .sk-estimator-doc-link.fitted:hover,\n",
              ".sk-estimator-doc-link.fitted:hover {\n",
              "  /* fitted */\n",
              "  background-color: var(--sklearn-color-fitted-level-3);\n",
              "  color: var(--sklearn-color-background);\n",
              "  text-decoration: none;\n",
              "}\n",
              "\n",
              "/* Span, style for the box shown on hovering the info icon */\n",
              ".sk-estimator-doc-link span {\n",
              "  display: none;\n",
              "  z-index: 9999;\n",
              "  position: relative;\n",
              "  font-weight: normal;\n",
              "  right: .2ex;\n",
              "  padding: .5ex;\n",
              "  margin: .5ex;\n",
              "  width: min-content;\n",
              "  min-width: 20ex;\n",
              "  max-width: 50ex;\n",
              "  color: var(--sklearn-color-text);\n",
              "  box-shadow: 2pt 2pt 4pt #999;\n",
              "  /* unfitted */\n",
              "  background: var(--sklearn-color-unfitted-level-0);\n",
              "  border: .5pt solid var(--sklearn-color-unfitted-level-3);\n",
              "}\n",
              "\n",
              ".sk-estimator-doc-link.fitted span {\n",
              "  /* fitted */\n",
              "  background: var(--sklearn-color-fitted-level-0);\n",
              "  border: var(--sklearn-color-fitted-level-3);\n",
              "}\n",
              "\n",
              ".sk-estimator-doc-link:hover span {\n",
              "  display: block;\n",
              "}\n",
              "\n",
              "/* \"?\"-specific style due to the `<a>` HTML tag */\n",
              "\n",
              "#sk-container-id-1 a.estimator_doc_link {\n",
              "  float: right;\n",
              "  font-size: 1rem;\n",
              "  line-height: 1em;\n",
              "  font-family: monospace;\n",
              "  background-color: var(--sklearn-color-background);\n",
              "  border-radius: 1rem;\n",
              "  height: 1rem;\n",
              "  width: 1rem;\n",
              "  text-decoration: none;\n",
              "  /* unfitted */\n",
              "  color: var(--sklearn-color-unfitted-level-1);\n",
              "  border: var(--sklearn-color-unfitted-level-1) 1pt solid;\n",
              "}\n",
              "\n",
              "#sk-container-id-1 a.estimator_doc_link.fitted {\n",
              "  /* fitted */\n",
              "  border: var(--sklearn-color-fitted-level-1) 1pt solid;\n",
              "  color: var(--sklearn-color-fitted-level-1);\n",
              "}\n",
              "\n",
              "/* On hover */\n",
              "#sk-container-id-1 a.estimator_doc_link:hover {\n",
              "  /* unfitted */\n",
              "  background-color: var(--sklearn-color-unfitted-level-3);\n",
              "  color: var(--sklearn-color-background);\n",
              "  text-decoration: none;\n",
              "}\n",
              "\n",
              "#sk-container-id-1 a.estimator_doc_link.fitted:hover {\n",
              "  /* fitted */\n",
              "  background-color: var(--sklearn-color-fitted-level-3);\n",
              "}\n",
              "</style><div id=\"sk-container-id-1\" class=\"sk-top-container\"><div class=\"sk-text-repr-fallback\"><pre>Pipeline(steps=[(&#x27;preprocessor&#x27;,\n",
              "                 ColumnTransformer(transformers=[(&#x27;cat&#x27;, OneHotEncoder(),\n",
              "                                                  [&#x27;age_group&#x27;,\n",
              "                                                   &#x27;lifestyle_risk&#x27;,\n",
              "                                                   &#x27;occupation&#x27;, &#x27;city_tier&#x27;]),\n",
              "                                                 (&#x27;num&#x27;, &#x27;passthrough&#x27;,\n",
              "                                                  [&#x27;bmi&#x27;, &#x27;income_lpa&#x27;])])),\n",
              "                (&#x27;classifier&#x27;, RandomForestClassifier(random_state=42))])</pre><b>In a Jupyter environment, please rerun this cell to show the HTML representation or trust the notebook. <br />On GitHub, the HTML representation is unable to render, please try loading this page with nbviewer.org.</b></div><div class=\"sk-container\" hidden><div class=\"sk-item sk-dashed-wrapped\"><div class=\"sk-label-container\"><div class=\"sk-label fitted sk-toggleable\"><input class=\"sk-toggleable__control sk-hidden--visually\" id=\"sk-estimator-id-1\" type=\"checkbox\" ><label for=\"sk-estimator-id-1\" class=\"sk-toggleable__label fitted sk-toggleable__label-arrow\"><div><div>Pipeline</div></div><div><a class=\"sk-estimator-doc-link fitted\" rel=\"noreferrer\" target=\"_blank\" href=\"https://scikit-learn.org/1.6/modules/generated/sklearn.pipeline.Pipeline.html\">?<span>Documentation for Pipeline</span></a><span class=\"sk-estimator-doc-link fitted\">i<span>Fitted</span></span></div></label><div class=\"sk-toggleable__content fitted\"><pre>Pipeline(steps=[(&#x27;preprocessor&#x27;,\n",
              "                 ColumnTransformer(transformers=[(&#x27;cat&#x27;, OneHotEncoder(),\n",
              "                                                  [&#x27;age_group&#x27;,\n",
              "                                                   &#x27;lifestyle_risk&#x27;,\n",
              "                                                   &#x27;occupation&#x27;, &#x27;city_tier&#x27;]),\n",
              "                                                 (&#x27;num&#x27;, &#x27;passthrough&#x27;,\n",
              "                                                  [&#x27;bmi&#x27;, &#x27;income_lpa&#x27;])])),\n",
              "                (&#x27;classifier&#x27;, RandomForestClassifier(random_state=42))])</pre></div> </div></div><div class=\"sk-serial\"><div class=\"sk-item sk-dashed-wrapped\"><div class=\"sk-label-container\"><div class=\"sk-label fitted sk-toggleable\"><input class=\"sk-toggleable__control sk-hidden--visually\" id=\"sk-estimator-id-2\" type=\"checkbox\" ><label for=\"sk-estimator-id-2\" class=\"sk-toggleable__label fitted sk-toggleable__label-arrow\"><div><div>preprocessor: ColumnTransformer</div></div><div><a class=\"sk-estimator-doc-link fitted\" rel=\"noreferrer\" target=\"_blank\" href=\"https://scikit-learn.org/1.6/modules/generated/sklearn.compose.ColumnTransformer.html\">?<span>Documentation for preprocessor: ColumnTransformer</span></a></div></label><div class=\"sk-toggleable__content fitted\"><pre>ColumnTransformer(transformers=[(&#x27;cat&#x27;, OneHotEncoder(),\n",
              "                                 [&#x27;age_group&#x27;, &#x27;lifestyle_risk&#x27;, &#x27;occupation&#x27;,\n",
              "                                  &#x27;city_tier&#x27;]),\n",
              "                                (&#x27;num&#x27;, &#x27;passthrough&#x27;, [&#x27;bmi&#x27;, &#x27;income_lpa&#x27;])])</pre></div> </div></div><div class=\"sk-parallel\"><div class=\"sk-parallel-item\"><div class=\"sk-item\"><div class=\"sk-label-container\"><div class=\"sk-label fitted sk-toggleable\"><input class=\"sk-toggleable__control sk-hidden--visually\" id=\"sk-estimator-id-3\" type=\"checkbox\" ><label for=\"sk-estimator-id-3\" class=\"sk-toggleable__label fitted sk-toggleable__label-arrow\"><div><div>cat</div></div></label><div class=\"sk-toggleable__content fitted\"><pre>[&#x27;age_group&#x27;, &#x27;lifestyle_risk&#x27;, &#x27;occupation&#x27;, &#x27;city_tier&#x27;]</pre></div> </div></div><div class=\"sk-serial\"><div class=\"sk-item\"><div class=\"sk-estimator fitted sk-toggleable\"><input class=\"sk-toggleable__control sk-hidden--visually\" id=\"sk-estimator-id-4\" type=\"checkbox\" ><label for=\"sk-estimator-id-4\" class=\"sk-toggleable__label fitted sk-toggleable__label-arrow\"><div><div>OneHotEncoder</div></div><div><a class=\"sk-estimator-doc-link fitted\" rel=\"noreferrer\" target=\"_blank\" href=\"https://scikit-learn.org/1.6/modules/generated/sklearn.preprocessing.OneHotEncoder.html\">?<span>Documentation for OneHotEncoder</span></a></div></label><div class=\"sk-toggleable__content fitted\"><pre>OneHotEncoder()</pre></div> </div></div></div></div></div><div class=\"sk-parallel-item\"><div class=\"sk-item\"><div class=\"sk-label-container\"><div class=\"sk-label fitted sk-toggleable\"><input class=\"sk-toggleable__control sk-hidden--visually\" id=\"sk-estimator-id-5\" type=\"checkbox\" ><label for=\"sk-estimator-id-5\" class=\"sk-toggleable__label fitted sk-toggleable__label-arrow\"><div><div>num</div></div></label><div class=\"sk-toggleable__content fitted\"><pre>[&#x27;bmi&#x27;, &#x27;income_lpa&#x27;]</pre></div> </div></div><div class=\"sk-serial\"><div class=\"sk-item\"><div class=\"sk-estimator fitted sk-toggleable\"><input class=\"sk-toggleable__control sk-hidden--visually\" id=\"sk-estimator-id-6\" type=\"checkbox\" ><label for=\"sk-estimator-id-6\" class=\"sk-toggleable__label fitted sk-toggleable__label-arrow\"><div><div>passthrough</div></div></label><div class=\"sk-toggleable__content fitted\"><pre>passthrough</pre></div> </div></div></div></div></div></div></div><div class=\"sk-item\"><div class=\"sk-estimator fitted sk-toggleable\"><input class=\"sk-toggleable__control sk-hidden--visually\" id=\"sk-estimator-id-7\" type=\"checkbox\" ><label for=\"sk-estimator-id-7\" class=\"sk-toggleable__label fitted sk-toggleable__label-arrow\"><div><div>RandomForestClassifier</div></div><div><a class=\"sk-estimator-doc-link fitted\" rel=\"noreferrer\" target=\"_blank\" href=\"https://scikit-learn.org/1.6/modules/generated/sklearn.ensemble.RandomForestClassifier.html\">?<span>Documentation for RandomForestClassifier</span></a></div></label><div class=\"sk-toggleable__content fitted\"><pre>RandomForestClassifier(random_state=42)</pre></div> </div></div></div></div></div></div>"
            ],
            "text/plain": [
              "Pipeline(steps=[('preprocessor',\n",
              "                 ColumnTransformer(transformers=[('cat', OneHotEncoder(),\n",
              "                                                  ['age_group',\n",
              "                                                   'lifestyle_risk',\n",
              "                                                   'occupation', 'city_tier']),\n",
              "                                                 ('num', 'passthrough',\n",
              "                                                  ['bmi', 'income_lpa'])])),\n",
              "                ('classifier', RandomForestClassifier(random_state=42))])"
            ]
          },
          "execution_count": 23,
          "metadata": {},
          "output_type": "execute_result"
        }
      ],
      "source": [
        "# Split data and train model\n",
        "X_train, X_test, y_train, y_test = train_test_split(X, y, test_size=0.2, random_state=1)\n",
        "pipeline.fit(X_train, y_train)\n"
      ]
    },
    {
      "cell_type": "code",
      "execution_count": 24,
      "metadata": {
        "colab": {
          "base_uri": "https://localhost:8080/"
        },
        "id": "1kHxfeCRHiFc",
        "outputId": "c18b2c63-7670-414d-c37e-73bd8d5a23f3"
      },
      "outputs": [
        {
          "data": {
            "text/plain": [
              "0.9"
            ]
          },
          "execution_count": 24,
          "metadata": {},
          "output_type": "execute_result"
        }
      ],
      "source": [
        "# Predict and evaluate\n",
        "y_pred = pipeline.predict(X_test)\n",
        "accuracy_score(y_test, y_pred)"
      ]
    },
    {
      "cell_type": "code",
      "execution_count": 25,
      "metadata": {
        "colab": {
          "base_uri": "https://localhost:8080/",
          "height": 206
        },
        "id": "xDfD5pygHnfi",
        "outputId": "ea1b8986-ca9b-49db-ab07-b45aa9f5e530"
      },
      "outputs": [
        {
          "data": {
            "application/vnd.microsoft.datawrangler.viewer.v0+json": {
              "columns": [
                {
                  "name": "index",
                  "rawType": "int64",
                  "type": "integer"
                },
                {
                  "name": "bmi",
                  "rawType": "float64",
                  "type": "float"
                },
                {
                  "name": "age_group",
                  "rawType": "object",
                  "type": "string"
                },
                {
                  "name": "lifestyle_risk",
                  "rawType": "object",
                  "type": "string"
                },
                {
                  "name": "city_tier",
                  "rawType": "int64",
                  "type": "integer"
                },
                {
                  "name": "income_lpa",
                  "rawType": "float64",
                  "type": "float"
                },
                {
                  "name": "occupation",
                  "rawType": "object",
                  "type": "string"
                }
              ],
              "ref": "837e8432-bb51-4b91-b224-78ec2d67b75b",
              "rows": [
                [
                  "92",
                  "18.319941563184805",
                  "adult",
                  "medium",
                  "2",
                  "30.0",
                  "government_job"
                ],
                [
                  "36",
                  "21.71326591314694",
                  "senior",
                  "low",
                  "1",
                  "0.53",
                  "retired"
                ],
                [
                  "10",
                  "22.949982444380606",
                  "adult",
                  "medium",
                  "1",
                  "32.78",
                  "business_owner"
                ],
                [
                  "93",
                  "23.199415631848066",
                  "young",
                  "low",
                  "2",
                  "1.28",
                  "student"
                ],
                [
                  "81",
                  "31.866054550364563",
                  "adult",
                  "high",
                  "2",
                  "22.19",
                  "freelancer"
                ]
              ],
              "shape": {
                "columns": 6,
                "rows": 5
              }
            },
            "text/html": [
              "<div>\n",
              "<style scoped>\n",
              "    .dataframe tbody tr th:only-of-type {\n",
              "        vertical-align: middle;\n",
              "    }\n",
              "\n",
              "    .dataframe tbody tr th {\n",
              "        vertical-align: top;\n",
              "    }\n",
              "\n",
              "    .dataframe thead th {\n",
              "        text-align: right;\n",
              "    }\n",
              "</style>\n",
              "<table border=\"1\" class=\"dataframe\">\n",
              "  <thead>\n",
              "    <tr style=\"text-align: right;\">\n",
              "      <th></th>\n",
              "      <th>bmi</th>\n",
              "      <th>age_group</th>\n",
              "      <th>lifestyle_risk</th>\n",
              "      <th>city_tier</th>\n",
              "      <th>income_lpa</th>\n",
              "      <th>occupation</th>\n",
              "    </tr>\n",
              "  </thead>\n",
              "  <tbody>\n",
              "    <tr>\n",
              "      <th>92</th>\n",
              "      <td>18.319942</td>\n",
              "      <td>adult</td>\n",
              "      <td>medium</td>\n",
              "      <td>2</td>\n",
              "      <td>30.00</td>\n",
              "      <td>government_job</td>\n",
              "    </tr>\n",
              "    <tr>\n",
              "      <th>36</th>\n",
              "      <td>21.713266</td>\n",
              "      <td>senior</td>\n",
              "      <td>low</td>\n",
              "      <td>1</td>\n",
              "      <td>0.53</td>\n",
              "      <td>retired</td>\n",
              "    </tr>\n",
              "    <tr>\n",
              "      <th>10</th>\n",
              "      <td>22.949982</td>\n",
              "      <td>adult</td>\n",
              "      <td>medium</td>\n",
              "      <td>1</td>\n",
              "      <td>32.78</td>\n",
              "      <td>business_owner</td>\n",
              "    </tr>\n",
              "    <tr>\n",
              "      <th>93</th>\n",
              "      <td>23.199416</td>\n",
              "      <td>young</td>\n",
              "      <td>low</td>\n",
              "      <td>2</td>\n",
              "      <td>1.28</td>\n",
              "      <td>student</td>\n",
              "    </tr>\n",
              "    <tr>\n",
              "      <th>81</th>\n",
              "      <td>31.866055</td>\n",
              "      <td>adult</td>\n",
              "      <td>high</td>\n",
              "      <td>2</td>\n",
              "      <td>22.19</td>\n",
              "      <td>freelancer</td>\n",
              "    </tr>\n",
              "  </tbody>\n",
              "</table>\n",
              "</div>"
            ],
            "text/plain": [
              "          bmi age_group lifestyle_risk  city_tier  income_lpa      occupation\n",
              "92  18.319942     adult         medium          2       30.00  government_job\n",
              "36  21.713266    senior            low          1        0.53         retired\n",
              "10  22.949982     adult         medium          1       32.78  business_owner\n",
              "93  23.199416     young            low          2        1.28         student\n",
              "81  31.866055     adult           high          2       22.19      freelancer"
            ]
          },
          "execution_count": 25,
          "metadata": {},
          "output_type": "execute_result"
        }
      ],
      "source": [
        "X_test.sample(5)"
      ]
    },
    {
      "cell_type": "code",
      "execution_count": 26,
      "metadata": {
        "id": "9-WG57TwII2T"
      },
      "outputs": [],
      "source": [
        "import pickle\n",
        "\n",
        "# Save the trained pipeline using pickle\n",
        "pickle_model_path = \"model.pkl\"\n",
        "with open(pickle_model_path, \"wb\") as f:\n",
        "    pickle.dump(pipeline, f)\n"
      ]
    },
    {
      "cell_type": "code",
      "execution_count": null,
      "metadata": {
        "id": "DQYh0hgVQJe-"
      },
      "outputs": [],
      "source": []
    }
  ],
  "metadata": {
    "colab": {
      "provenance": []
    },
    "kernelspec": {
      "display_name": "Python 3",
      "name": "python3"
    },
    "language_info": {
      "codemirror_mode": {
        "name": "ipython",
        "version": 3
      },
      "file_extension": ".py",
      "mimetype": "text/x-python",
      "name": "python",
      "nbconvert_exporter": "python",
      "pygments_lexer": "ipython3",
      "version": "3.13.2"
    }
  },
  "nbformat": 4,
  "nbformat_minor": 0
}
